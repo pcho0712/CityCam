{
 "cells": [
  {
   "cell_type": "code",
   "execution_count": 1,
   "metadata": {},
   "outputs": [],
   "source": [
    "import cups \n",
    "from PIL import Image\n",
    "\n"
   ]
  },
  {
   "cell_type": "code",
   "execution_count": 2,
   "metadata": {},
   "outputs": [
    {
     "name": "stdout",
     "output_type": "stream",
     "text": [
      "Available Printers:\n",
      "Brother_DCP_J987N dnssd://Brother%20DCP-J987N._ipp._tcp.local./?uuid=e3248000-80ce-11db-8000-b42200196a42\n",
      "HP_OfficeJet_Pro_6970 dnssd://HP%20OfficeJet%20Pro%206970%20%5BCB5C9F%5D._ipps._tcp.local./?uuid=5cf04ef8-f57d-f5b0-cef7-fe81cd0c7150\n",
      "HP_OfficeJet_Pro_6970___Fax dnssd://HP%20OfficeJet%20Pro%206970%20%5BCB5C9F%5D._ipps._tcp.local./?uuid=5cf04ef8-f57d-f5b0-cef7-fe81cd0c7150\n",
      "LLK_FX_Printer lpd://192.168.100.190/\n",
      "OKI_MC562_E60FB9 dnssd://OKI-MC562-E60FB9._ipp._tcp.local./?uuid=0c3e2789-3e1d-49b3-b313-496a19343b0c\n"
     ]
    }
   ],
   "source": [
    "conn = cups.Connection()\n",
    "printers = conn.getPrinters()\n",
    "\n",
    "print(\"Available Printers:\")\n",
    "for printer in printers:\n",
    "\tprint(printer, printers[printer][\"device-uri\"])"
   ]
  },
  {
   "cell_type": "code",
   "execution_count": 3,
   "metadata": {},
   "outputs": [
    {
     "name": "stdout",
     "output_type": "stream",
     "text": [
      "Print Finished\n"
     ]
    }
   ],
   "source": [
    "image_path = \"/Users/tyoshida/Downloads/screenshot-1696711408854.png\"\n",
    "\n",
    "printer_path = \"LLK_FX_Printer\"\n",
    "\n",
    "conn.printFile(printer_path, image_path, \"Print Job\", {})\n",
    "\n",
    "print(\"Print Finished\")"
   ]
  }
 ],
 "metadata": {
  "kernelspec": {
   "display_name": "Python 3",
   "language": "python",
   "name": "python3"
  },
  "language_info": {
   "codemirror_mode": {
    "name": "ipython",
    "version": 3
   },
   "file_extension": ".py",
   "mimetype": "text/x-python",
   "name": "python",
   "nbconvert_exporter": "python",
   "pygments_lexer": "ipython3",
   "version": "3.9.15"
  }
 },
 "nbformat": 4,
 "nbformat_minor": 2
}
