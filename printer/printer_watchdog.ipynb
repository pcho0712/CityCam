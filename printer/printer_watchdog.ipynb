{
 "cells": [
  {
   "cell_type": "code",
   "execution_count": 47,
   "metadata": {},
   "outputs": [],
   "source": [
    "import cups \n",
    "from PIL import Image\n",
    "\n",
    "import sys\n",
    "import time\n",
    "import json\n",
    "from watchdog.observers import Observer\n",
    "from watchdog.events import FileSystemEventHandler, FileCreatedEvent\n"
   ]
  },
  {
   "cell_type": "code",
   "execution_count": 48,
   "metadata": {},
   "outputs": [
    {
     "name": "stdout",
     "output_type": "stream",
     "text": [
      "Available Printers:\n",
      "Brother_DCP_J987N dnssd://Brother%20DCP-J987N._ipp._tcp.local./?uuid=e3248000-80ce-11db-8000-b42200196a42\n",
      "Canon_SELPHY_CP1500 ippusb://Canon%20SELPHY%20CP1500._ipp._tcp.local./?uuid=c624537c-b5e2-495e-a68f-5c625afd8142\n",
      "HP_OfficeJet_Pro_6970 dnssd://HP%20OfficeJet%20Pro%206970%20%5BCB5C9F%5D._ipps._tcp.local./?uuid=5cf04ef8-f57d-f5b0-cef7-fe81cd0c7150\n",
      "HP_OfficeJet_Pro_6970___Fax dnssd://HP%20OfficeJet%20Pro%206970%20%5BCB5C9F%5D._ipps._tcp.local./?uuid=5cf04ef8-f57d-f5b0-cef7-fe81cd0c7150\n",
      "LLK_FX_Printer lpd://192.168.100.190/\n",
      "OKI_MC562_E60FB9 dnssd://OKI-MC562-E60FB9._ipp._tcp.local./?uuid=0c3e2789-3e1d-49b3-b313-496a19343b0c\n"
     ]
    }
   ],
   "source": [
    "conn = cups.Connection()\n",
    "printers = conn.getPrinters()\n",
    "\n",
    "print(\"Available Printers:\")\n",
    "for printer in printers:\n",
    "\tprint(printer, printers[printer][\"device-uri\"])"
   ]
  },
  {
   "cell_type": "code",
   "execution_count": 49,
   "metadata": {},
   "outputs": [],
   "source": [
    "\n",
    "def resize_and_crop(img, target_width, target_height):\n",
    "    # Calculate aspect ratio of desired size and original image\n",
    "    target_ratio = target_width / target_height\n",
    "    img_ratio = img.width / img.height\n",
    "\n",
    "    # Resize the image to maintain the aspect ratio\n",
    "    if target_ratio > img_ratio:\n",
    "        # It means our target width is comparatively greater than the width of the image w.r.t their heights\n",
    "        # So we set the width of the image to the target width and height is adjusted accordingly to maintain the aspect ratio\n",
    "        img = img.resize((target_width, int(target_width / img_ratio)))\n",
    "    else:\n",
    "        # We set the height of the image to the target height and width is adjusted accordingly\n",
    "        img = img.resize((int(target_height * img_ratio), target_height))\n",
    "\n",
    "    # Centering and cropping the image\n",
    "    left_margin = (img.width - target_width) / 2\n",
    "    top_margin = (img.height - target_height) / 2\n",
    "    right_margin = left_margin + target_width\n",
    "    bottom_margin = top_margin + target_height\n",
    "\n",
    "    img = img.crop((left_margin, top_margin, right_margin, bottom_margin))\n",
    "\n",
    "    return img\n"
   ]
  },
  {
   "cell_type": "code",
   "execution_count": 50,
   "metadata": {},
   "outputs": [],
   "source": [
    "# image_path = \"/Users/tyoshida/Downloads/screenshot-1696711408854.png\"\n",
    "# image_path = \"/Users/tyoshida/Downloads/DALLE3.jpg\"\n",
    "\n",
    "def print_image(image_path, printer_path=\"Canon_SELPHY_CP1500\"):\n",
    "    # Open the image and resize it\n",
    "    img = Image.open(image_path, \"r\")\n",
    "    img = img.convert(\"RGB\")\n",
    "    img = resize_and_crop(img, 3201, 2243)\n",
    "\n",
    "    # Save the resized image to a temporary file\n",
    "    temp_image_path = \"/Users/tyoshida/Downloads/temp.jpg\"\n",
    "    img.save(temp_image_path)\n",
    "\n",
    "    # Print the image\n",
    "    conn.printFile(printer_path, temp_image_path, \"Print Job\", {})\n",
    "\n",
    "    print(\"Print Finished\")\n",
    "    \n",
    "# print_image(image_path)"
   ]
  },
  {
   "cell_type": "code",
   "execution_count": 51,
   "metadata": {},
   "outputs": [],
   "source": [
    "class ScreenshotHandler(FileSystemEventHandler):\n",
    "    def __init__(self):\n",
    "        self.data = []\n",
    "        self.filtered_data = []\n",
    "        self.last_processed_path = None  # 追加\n",
    "\n",
    "    def on_created(self, event: FileCreatedEvent):\n",
    "        # print(f\"Event triggered for: {event.src_path}\")\n",
    "\n",
    "        # 追加：もし前回と同じパスなら処理をスキップ\n",
    "        if self.last_processed_path == event.src_path:\n",
    "            return\n",
    "        self.last_processed_path = event.src_path\n",
    "\n",
    "        filename = event.src_path.split('/')[-1]\n",
    "        if filename.endswith('.crdownload'):\n",
    "            return\n",
    "        if filename.startswith('screenshot') and filename.endswith('.png'):\n",
    "\n",
    "            if isinstance(event, FileCreatedEvent):\n",
    "\n",
    "                current_timestamp = time.time()\n",
    "                entry = {\n",
    "                    \"path\": event.src_path,\n",
    "                    \"timestamp\": time.strftime('%Y-%m-%d %H:%M:%S', time.localtime(current_timestamp))\n",
    "                }\n",
    "                self.data.append(entry)\n",
    "                \n",
    "                # Check if this is the first entry or if the timestamp difference from the last one is more than 3 seconds\n",
    "                if (not self.filtered_data or \n",
    "                    (current_timestamp - time.mktime(time.strptime(self.filtered_data[-1]['timestamp'], '%Y-%m-%d %H:%M:%S')) > 10)):\n",
    "                    if not any(d['path'] == event.src_path for d in self.filtered_data):\n",
    "                        self.filtered_data.append(entry)\n",
    "                        print_image(event.src_path)\n",
    "\n",
    "                \n",
    "                # print(\"Before printing filtered data\")\n",
    "                print(\"Filtered Data:\", json.dumps(self.filtered_data, indent=4))\n"
   ]
  },
  {
   "cell_type": "code",
   "execution_count": 52,
   "metadata": {},
   "outputs": [],
   "source": [
    "\n",
    "if __name__ == \"__main__\":\n",
    "    path = \"/Users/tyoshida/Downloads/\"\n",
    "    event_handler = ScreenshotHandler()\n",
    "    observer = Observer()\n",
    "    observer.schedule(event_handler, path, recursive=False)\n",
    "    observer.start()\n",
    "    try:\n",
    "        while True:\n",
    "            time.sleep(1)\n",
    "    except KeyboardInterrupt:\n",
    "        observer.stop()\n",
    "    observer.join()\n"
   ]
  },
  {
   "cell_type": "code",
   "execution_count": null,
   "metadata": {},
   "outputs": [],
   "source": []
  }
 ],
 "metadata": {
  "kernelspec": {
   "display_name": "Python 3",
   "language": "python",
   "name": "python3"
  },
  "language_info": {
   "codemirror_mode": {
    "name": "ipython",
    "version": 3
   },
   "file_extension": ".py",
   "mimetype": "text/x-python",
   "name": "python",
   "nbconvert_exporter": "python",
   "pygments_lexer": "ipython3",
   "version": "3.9.15"
  }
 },
 "nbformat": 4,
 "nbformat_minor": 2
}
